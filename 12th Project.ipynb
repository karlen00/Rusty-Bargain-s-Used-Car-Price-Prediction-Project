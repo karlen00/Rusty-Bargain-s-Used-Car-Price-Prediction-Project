{
 "cells": [
  {
   "cell_type": "markdown",
   "metadata": {},
   "source": [
    "<div style=\"border:solid black 2px; padding: 20px\" class=\"alert alert-success\">\n",
    "    \n",
    "# General feedback v.1 *Project Accepted*\n",
    "\n",
    "Terima kasih banyak telah mengirimkan proyek Anda! \n",
    "<br>\n",
    "    \n",
    "Secara keseluruhan, proyek Anda **SANGAT** mengesankan. Semoga apa yang kamu pelajari dalam project ini dapat membantu meningkatkan kemampuanmu. Pertahankan apa yang sudah bagus, dan tingkatkan apa yang menurutmu masih perlu ditingkatkan. Semoga berhasil pada project selanjutnya yaa :)\n",
    "\n",
    "**TETAP SEMANGAT!!**\n",
    "    \n",
    "</div>"
   ]
  },
  {
   "cell_type": "markdown",
   "metadata": {},
   "source": [
    "Rusty Bargain adalah perusahaan jual beli mobil bekas yang sedang mengembangkan sebuah aplikasi untuk menarik pembeli baru. Dalam aplikasi tersebut, kamu bisa dengan cepat mengetahui nilai pasar mobilmu. Kamu memiliki akses ke data historis, spesifikasi teknis kendaraan, versi model kendaraan, dan harga kendaraan. Tugasmu adalah membuat suatu model yang mampu menentukan nilai pasar mobil.\n",
    "Rusty Bargain tertarik pada:\n",
    "\n",
    "- kualitas prediksi;\n",
    "- kecepatan model dalam memprediksi;\n",
    "- waktu yang diperlukan untuk melatih model"
   ]
  },
  {
   "cell_type": "markdown",
   "metadata": {},
   "source": [
    "## Persiapan Data"
   ]
  },
  {
   "cell_type": "markdown",
   "metadata": {},
   "source": [
    "### Loading Data"
   ]
  },
  {
   "cell_type": "code",
   "execution_count": 1,
   "metadata": {},
   "outputs": [],
   "source": [
    "# required libraries\n",
    "import pandas as pd\n",
    "import numpy as np\n",
    "import matplotlib.pyplot as plt\n",
    "import seaborn as sns\n",
    "\n",
    "from sklearn.model_selection import train_test_split, cross_val_score\n",
    "from sklearn.preprocessing import StandardScaler, OrdinalEncoder\n",
    "from sklearn.metrics import r2_score, mean_squared_error\n",
    "from sklearn.linear_model import LinearRegression\n",
    "from sklearn.ensemble import RandomForestRegressor\n",
    "\n",
    "from catboost import CatBoostRegressor\n",
    "from lightgbm import LGBMRegressor\n",
    "import xgboost as xgb\n",
    "\n",
    "import warnings\n",
    "\n",
    "warnings.filterwarnings(\"ignore\")"
   ]
  },
  {
   "cell_type": "code",
   "execution_count": 2,
   "metadata": {
    "scrolled": false
   },
   "outputs": [
    {
     "data": {
      "text/html": [
       "<div>\n",
       "<style scoped>\n",
       "    .dataframe tbody tr th:only-of-type {\n",
       "        vertical-align: middle;\n",
       "    }\n",
       "\n",
       "    .dataframe tbody tr th {\n",
       "        vertical-align: top;\n",
       "    }\n",
       "\n",
       "    .dataframe thead th {\n",
       "        text-align: right;\n",
       "    }\n",
       "</style>\n",
       "<table border=\"1\" class=\"dataframe\">\n",
       "  <thead>\n",
       "    <tr style=\"text-align: right;\">\n",
       "      <th></th>\n",
       "      <th>DateCrawled</th>\n",
       "      <th>Price</th>\n",
       "      <th>VehicleType</th>\n",
       "      <th>RegistrationYear</th>\n",
       "      <th>Gearbox</th>\n",
       "      <th>Power</th>\n",
       "      <th>Model</th>\n",
       "      <th>Mileage</th>\n",
       "      <th>RegistrationMonth</th>\n",
       "      <th>FuelType</th>\n",
       "      <th>Brand</th>\n",
       "      <th>NotRepaired</th>\n",
       "      <th>DateCreated</th>\n",
       "      <th>NumberOfPictures</th>\n",
       "      <th>PostalCode</th>\n",
       "      <th>LastSeen</th>\n",
       "    </tr>\n",
       "  </thead>\n",
       "  <tbody>\n",
       "    <tr>\n",
       "      <th>0</th>\n",
       "      <td>24/03/2016 11:52</td>\n",
       "      <td>480</td>\n",
       "      <td>NaN</td>\n",
       "      <td>1993</td>\n",
       "      <td>manual</td>\n",
       "      <td>0</td>\n",
       "      <td>golf</td>\n",
       "      <td>150000</td>\n",
       "      <td>0</td>\n",
       "      <td>petrol</td>\n",
       "      <td>volkswagen</td>\n",
       "      <td>NaN</td>\n",
       "      <td>24/03/2016 00:00</td>\n",
       "      <td>0</td>\n",
       "      <td>70435</td>\n",
       "      <td>07/04/2016 03:16</td>\n",
       "    </tr>\n",
       "    <tr>\n",
       "      <th>1</th>\n",
       "      <td>24/03/2016 10:58</td>\n",
       "      <td>18300</td>\n",
       "      <td>coupe</td>\n",
       "      <td>2011</td>\n",
       "      <td>manual</td>\n",
       "      <td>190</td>\n",
       "      <td>NaN</td>\n",
       "      <td>125000</td>\n",
       "      <td>5</td>\n",
       "      <td>gasoline</td>\n",
       "      <td>audi</td>\n",
       "      <td>yes</td>\n",
       "      <td>24/03/2016 00:00</td>\n",
       "      <td>0</td>\n",
       "      <td>66954</td>\n",
       "      <td>07/04/2016 01:46</td>\n",
       "    </tr>\n",
       "    <tr>\n",
       "      <th>2</th>\n",
       "      <td>14/03/2016 12:52</td>\n",
       "      <td>9800</td>\n",
       "      <td>suv</td>\n",
       "      <td>2004</td>\n",
       "      <td>auto</td>\n",
       "      <td>163</td>\n",
       "      <td>grand</td>\n",
       "      <td>125000</td>\n",
       "      <td>8</td>\n",
       "      <td>gasoline</td>\n",
       "      <td>jeep</td>\n",
       "      <td>NaN</td>\n",
       "      <td>14/03/2016 00:00</td>\n",
       "      <td>0</td>\n",
       "      <td>90480</td>\n",
       "      <td>05/04/2016 12:47</td>\n",
       "    </tr>\n",
       "    <tr>\n",
       "      <th>3</th>\n",
       "      <td>17/03/2016 16:54</td>\n",
       "      <td>1500</td>\n",
       "      <td>small</td>\n",
       "      <td>2001</td>\n",
       "      <td>manual</td>\n",
       "      <td>75</td>\n",
       "      <td>golf</td>\n",
       "      <td>150000</td>\n",
       "      <td>6</td>\n",
       "      <td>petrol</td>\n",
       "      <td>volkswagen</td>\n",
       "      <td>no</td>\n",
       "      <td>17/03/2016 00:00</td>\n",
       "      <td>0</td>\n",
       "      <td>91074</td>\n",
       "      <td>17/03/2016 17:40</td>\n",
       "    </tr>\n",
       "    <tr>\n",
       "      <th>4</th>\n",
       "      <td>31/03/2016 17:25</td>\n",
       "      <td>3600</td>\n",
       "      <td>small</td>\n",
       "      <td>2008</td>\n",
       "      <td>manual</td>\n",
       "      <td>69</td>\n",
       "      <td>fabia</td>\n",
       "      <td>90000</td>\n",
       "      <td>7</td>\n",
       "      <td>gasoline</td>\n",
       "      <td>skoda</td>\n",
       "      <td>no</td>\n",
       "      <td>31/03/2016 00:00</td>\n",
       "      <td>0</td>\n",
       "      <td>60437</td>\n",
       "      <td>06/04/2016 10:17</td>\n",
       "    </tr>\n",
       "  </tbody>\n",
       "</table>\n",
       "</div>"
      ],
      "text/plain": [
       "        DateCrawled  Price VehicleType  RegistrationYear Gearbox  Power  \\\n",
       "0  24/03/2016 11:52    480         NaN              1993  manual      0   \n",
       "1  24/03/2016 10:58  18300       coupe              2011  manual    190   \n",
       "2  14/03/2016 12:52   9800         suv              2004    auto    163   \n",
       "3  17/03/2016 16:54   1500       small              2001  manual     75   \n",
       "4  31/03/2016 17:25   3600       small              2008  manual     69   \n",
       "\n",
       "   Model  Mileage  RegistrationMonth  FuelType       Brand NotRepaired  \\\n",
       "0   golf   150000                  0    petrol  volkswagen         NaN   \n",
       "1    NaN   125000                  5  gasoline        audi         yes   \n",
       "2  grand   125000                  8  gasoline        jeep         NaN   \n",
       "3   golf   150000                  6    petrol  volkswagen          no   \n",
       "4  fabia    90000                  7  gasoline       skoda          no   \n",
       "\n",
       "        DateCreated  NumberOfPictures  PostalCode          LastSeen  \n",
       "0  24/03/2016 00:00                 0       70435  07/04/2016 03:16  \n",
       "1  24/03/2016 00:00                 0       66954  07/04/2016 01:46  \n",
       "2  14/03/2016 00:00                 0       90480  05/04/2016 12:47  \n",
       "3  17/03/2016 00:00                 0       91074  17/03/2016 17:40  \n",
       "4  31/03/2016 00:00                 0       60437  06/04/2016 10:17  "
      ]
     },
     "execution_count": 2,
     "metadata": {},
     "output_type": "execute_result"
    }
   ],
   "source": [
    "# load the data\n",
    "df = pd.read_csv(\"/datasets/car_data.csv\", parse_dates=True, infer_datetime_format=True)\n",
    "df.head()"
   ]
  },
  {
   "cell_type": "code",
   "execution_count": 3,
   "metadata": {},
   "outputs": [
    {
     "name": "stdout",
     "output_type": "stream",
     "text": [
      "<class 'pandas.core.frame.DataFrame'>\n",
      "RangeIndex: 354369 entries, 0 to 354368\n",
      "Data columns (total 16 columns):\n",
      " #   Column             Non-Null Count   Dtype \n",
      "---  ------             --------------   ----- \n",
      " 0   DateCrawled        354369 non-null  object\n",
      " 1   Price              354369 non-null  int64 \n",
      " 2   VehicleType        316879 non-null  object\n",
      " 3   RegistrationYear   354369 non-null  int64 \n",
      " 4   Gearbox            334536 non-null  object\n",
      " 5   Power              354369 non-null  int64 \n",
      " 6   Model              334664 non-null  object\n",
      " 7   Mileage            354369 non-null  int64 \n",
      " 8   RegistrationMonth  354369 non-null  int64 \n",
      " 9   FuelType           321474 non-null  object\n",
      " 10  Brand              354369 non-null  object\n",
      " 11  NotRepaired        283215 non-null  object\n",
      " 12  DateCreated        354369 non-null  object\n",
      " 13  NumberOfPictures   354369 non-null  int64 \n",
      " 14  PostalCode         354369 non-null  int64 \n",
      " 15  LastSeen           354369 non-null  object\n",
      "dtypes: int64(7), object(9)\n",
      "memory usage: 43.3+ MB\n"
     ]
    }
   ],
   "source": [
    "# Mencetak info tentang data\n",
    "df.info()"
   ]
  },
  {
   "cell_type": "code",
   "execution_count": 4,
   "metadata": {
    "scrolled": true
   },
   "outputs": [
    {
     "data": {
      "text/html": [
       "<style  type=\"text/css\" >\n",
       "#T_35b04_row0_col0,#T_35b04_row0_col1,#T_35b04_row1_col0,#T_35b04_row1_col1,#T_35b04_row3_col0,#T_35b04_row3_col1,#T_35b04_row5_col0,#T_35b04_row5_col1,#T_35b04_row7_col0,#T_35b04_row7_col1,#T_35b04_row8_col0,#T_35b04_row8_col1,#T_35b04_row10_col0,#T_35b04_row10_col1,#T_35b04_row12_col0,#T_35b04_row12_col1,#T_35b04_row13_col0,#T_35b04_row13_col1,#T_35b04_row14_col0,#T_35b04_row14_col1,#T_35b04_row15_col0,#T_35b04_row15_col1{\n",
       "            background-color:  #fff7fb;\n",
       "            color:  #000000;\n",
       "        }#T_35b04_row2_col0,#T_35b04_row2_col1{\n",
       "            background-color:  #67a4cc;\n",
       "            color:  #000000;\n",
       "        }#T_35b04_row4_col0,#T_35b04_row4_col1{\n",
       "            background-color:  #c6cce3;\n",
       "            color:  #000000;\n",
       "        }#T_35b04_row6_col0,#T_35b04_row6_col1{\n",
       "            background-color:  #c8cde4;\n",
       "            color:  #000000;\n",
       "        }#T_35b04_row9_col0,#T_35b04_row9_col1{\n",
       "            background-color:  #83afd3;\n",
       "            color:  #000000;\n",
       "        }#T_35b04_row11_col0,#T_35b04_row11_col1{\n",
       "            background-color:  #023858;\n",
       "            color:  #f1f1f1;\n",
       "        }</style><table id=\"T_35b04_\" ><thead>    <tr>        <th class=\"blank level0\" ></th>        <th class=\"col_heading level0 col0\" >Number of missings</th>        <th class=\"col_heading level0 col1\" >% of missings</th>    </tr></thead><tbody>\n",
       "                <tr>\n",
       "                        <th id=\"T_35b04_level0_row0\" class=\"row_heading level0 row0\" >DateCrawled</th>\n",
       "                        <td id=\"T_35b04_row0_col0\" class=\"data row0 col0\" >0</td>\n",
       "                        <td id=\"T_35b04_row0_col1\" class=\"data row0 col1\" >0.000000</td>\n",
       "            </tr>\n",
       "            <tr>\n",
       "                        <th id=\"T_35b04_level0_row1\" class=\"row_heading level0 row1\" >Price</th>\n",
       "                        <td id=\"T_35b04_row1_col0\" class=\"data row1 col0\" >0</td>\n",
       "                        <td id=\"T_35b04_row1_col1\" class=\"data row1 col1\" >0.000000</td>\n",
       "            </tr>\n",
       "            <tr>\n",
       "                        <th id=\"T_35b04_level0_row2\" class=\"row_heading level0 row2\" >VehicleType</th>\n",
       "                        <td id=\"T_35b04_row2_col0\" class=\"data row2 col0\" >37490</td>\n",
       "                        <td id=\"T_35b04_row2_col1\" class=\"data row2 col1\" >10.579368</td>\n",
       "            </tr>\n",
       "            <tr>\n",
       "                        <th id=\"T_35b04_level0_row3\" class=\"row_heading level0 row3\" >RegistrationYear</th>\n",
       "                        <td id=\"T_35b04_row3_col0\" class=\"data row3 col0\" >0</td>\n",
       "                        <td id=\"T_35b04_row3_col1\" class=\"data row3 col1\" >0.000000</td>\n",
       "            </tr>\n",
       "            <tr>\n",
       "                        <th id=\"T_35b04_level0_row4\" class=\"row_heading level0 row4\" >Gearbox</th>\n",
       "                        <td id=\"T_35b04_row4_col0\" class=\"data row4 col0\" >19833</td>\n",
       "                        <td id=\"T_35b04_row4_col1\" class=\"data row4 col1\" >5.596709</td>\n",
       "            </tr>\n",
       "            <tr>\n",
       "                        <th id=\"T_35b04_level0_row5\" class=\"row_heading level0 row5\" >Power</th>\n",
       "                        <td id=\"T_35b04_row5_col0\" class=\"data row5 col0\" >0</td>\n",
       "                        <td id=\"T_35b04_row5_col1\" class=\"data row5 col1\" >0.000000</td>\n",
       "            </tr>\n",
       "            <tr>\n",
       "                        <th id=\"T_35b04_level0_row6\" class=\"row_heading level0 row6\" >Model</th>\n",
       "                        <td id=\"T_35b04_row6_col0\" class=\"data row6 col0\" >19705</td>\n",
       "                        <td id=\"T_35b04_row6_col1\" class=\"data row6 col1\" >5.560588</td>\n",
       "            </tr>\n",
       "            <tr>\n",
       "                        <th id=\"T_35b04_level0_row7\" class=\"row_heading level0 row7\" >Mileage</th>\n",
       "                        <td id=\"T_35b04_row7_col0\" class=\"data row7 col0\" >0</td>\n",
       "                        <td id=\"T_35b04_row7_col1\" class=\"data row7 col1\" >0.000000</td>\n",
       "            </tr>\n",
       "            <tr>\n",
       "                        <th id=\"T_35b04_level0_row8\" class=\"row_heading level0 row8\" >RegistrationMonth</th>\n",
       "                        <td id=\"T_35b04_row8_col0\" class=\"data row8 col0\" >0</td>\n",
       "                        <td id=\"T_35b04_row8_col1\" class=\"data row8 col1\" >0.000000</td>\n",
       "            </tr>\n",
       "            <tr>\n",
       "                        <th id=\"T_35b04_level0_row9\" class=\"row_heading level0 row9\" >FuelType</th>\n",
       "                        <td id=\"T_35b04_row9_col0\" class=\"data row9 col0\" >32895</td>\n",
       "                        <td id=\"T_35b04_row9_col1\" class=\"data row9 col1\" >9.282697</td>\n",
       "            </tr>\n",
       "            <tr>\n",
       "                        <th id=\"T_35b04_level0_row10\" class=\"row_heading level0 row10\" >Brand</th>\n",
       "                        <td id=\"T_35b04_row10_col0\" class=\"data row10 col0\" >0</td>\n",
       "                        <td id=\"T_35b04_row10_col1\" class=\"data row10 col1\" >0.000000</td>\n",
       "            </tr>\n",
       "            <tr>\n",
       "                        <th id=\"T_35b04_level0_row11\" class=\"row_heading level0 row11\" >NotRepaired</th>\n",
       "                        <td id=\"T_35b04_row11_col0\" class=\"data row11 col0\" >71154</td>\n",
       "                        <td id=\"T_35b04_row11_col1\" class=\"data row11 col1\" >20.079070</td>\n",
       "            </tr>\n",
       "            <tr>\n",
       "                        <th id=\"T_35b04_level0_row12\" class=\"row_heading level0 row12\" >DateCreated</th>\n",
       "                        <td id=\"T_35b04_row12_col0\" class=\"data row12 col0\" >0</td>\n",
       "                        <td id=\"T_35b04_row12_col1\" class=\"data row12 col1\" >0.000000</td>\n",
       "            </tr>\n",
       "            <tr>\n",
       "                        <th id=\"T_35b04_level0_row13\" class=\"row_heading level0 row13\" >NumberOfPictures</th>\n",
       "                        <td id=\"T_35b04_row13_col0\" class=\"data row13 col0\" >0</td>\n",
       "                        <td id=\"T_35b04_row13_col1\" class=\"data row13 col1\" >0.000000</td>\n",
       "            </tr>\n",
       "            <tr>\n",
       "                        <th id=\"T_35b04_level0_row14\" class=\"row_heading level0 row14\" >PostalCode</th>\n",
       "                        <td id=\"T_35b04_row14_col0\" class=\"data row14 col0\" >0</td>\n",
       "                        <td id=\"T_35b04_row14_col1\" class=\"data row14 col1\" >0.000000</td>\n",
       "            </tr>\n",
       "            <tr>\n",
       "                        <th id=\"T_35b04_level0_row15\" class=\"row_heading level0 row15\" >LastSeen</th>\n",
       "                        <td id=\"T_35b04_row15_col0\" class=\"data row15 col0\" >0</td>\n",
       "                        <td id=\"T_35b04_row15_col1\" class=\"data row15 col1\" >0.000000</td>\n",
       "            </tr>\n",
       "    </tbody></table>"
      ],
      "text/plain": [
       "<pandas.io.formats.style.Styler at 0x7fac70d2a400>"
      ]
     },
     "metadata": {},
     "output_type": "display_data"
    }
   ],
   "source": [
    "# Menghitung jumlah nilai yang hilang dan persentasenya di setiap kolom setiap file data\n",
    "def missing_data(list_of_dfs, list_of_names=None):\n",
    "    for i in range(len(list_of_dfs)):\n",
    "        df = list_of_dfs[i]\n",
    "        col_names = df.columns.tolist()\n",
    "        na_per_col = df.isna().sum().tolist()\n",
    "        na_percentage = (df.isna().sum() / len(df) * 100).tolist()\n",
    "        if list_of_names != None:\n",
    "            print(\"=\" * 20, \"Missing values of\", list_of_names[i], \"=\" * 20)\n",
    "        display(\n",
    "            pd.DataFrame(\n",
    "                list(zip(na_per_col, na_percentage)),\n",
    "                columns=[\"Number of missings\", \"% of missings\"],\n",
    "                index=col_names,\n",
    "            ).style.background_gradient(axis=0)\n",
    "        )\n",
    "\n",
    "\n",
    "# Menerapkan fungsi nya\n",
    "missing_data([df])"
   ]
  },
  {
   "cell_type": "code",
   "execution_count": 5,
   "metadata": {},
   "outputs": [
    {
     "data": {
      "text/plain": [
       "262"
      ]
     },
     "metadata": {},
     "output_type": "display_data"
    },
    {
     "name": "stdout",
     "output_type": "stream",
     "text": [
      "Percentage of duplicated rows is 0.07%.\n"
     ]
    }
   ],
   "source": [
    "# Memeriksa jumlah baris yang diduplikasi\n",
    "display(df.duplicated().sum())\n",
    "print(f\"Percentage of duplicated rows is {df.duplicated().sum()/len(df):.2%}.\")"
   ]
  },
  {
   "cell_type": "code",
   "execution_count": 6,
   "metadata": {
    "scrolled": true
   },
   "outputs": [
    {
     "data": {
      "text/html": [
       "<div>\n",
       "<style scoped>\n",
       "    .dataframe tbody tr th:only-of-type {\n",
       "        vertical-align: middle;\n",
       "    }\n",
       "\n",
       "    .dataframe tbody tr th {\n",
       "        vertical-align: top;\n",
       "    }\n",
       "\n",
       "    .dataframe thead th {\n",
       "        text-align: right;\n",
       "    }\n",
       "</style>\n",
       "<table border=\"1\" class=\"dataframe\">\n",
       "  <thead>\n",
       "    <tr style=\"text-align: right;\">\n",
       "      <th></th>\n",
       "      <th>DateCrawled</th>\n",
       "      <th>Price</th>\n",
       "      <th>VehicleType</th>\n",
       "      <th>RegistrationYear</th>\n",
       "      <th>Gearbox</th>\n",
       "      <th>Power</th>\n",
       "      <th>Model</th>\n",
       "      <th>Mileage</th>\n",
       "      <th>RegistrationMonth</th>\n",
       "      <th>FuelType</th>\n",
       "      <th>Brand</th>\n",
       "      <th>NotRepaired</th>\n",
       "      <th>DateCreated</th>\n",
       "      <th>NumberOfPictures</th>\n",
       "      <th>PostalCode</th>\n",
       "      <th>LastSeen</th>\n",
       "    </tr>\n",
       "  </thead>\n",
       "  <tbody>\n",
       "    <tr>\n",
       "      <th>90786</th>\n",
       "      <td>01/04/2016 05:02</td>\n",
       "      <td>6199</td>\n",
       "      <td>coupe</td>\n",
       "      <td>1999</td>\n",
       "      <td>manual</td>\n",
       "      <td>193</td>\n",
       "      <td>3er</td>\n",
       "      <td>150000</td>\n",
       "      <td>5</td>\n",
       "      <td>petrol</td>\n",
       "      <td>bmw</td>\n",
       "      <td>no</td>\n",
       "      <td>01/04/2016 00:00</td>\n",
       "      <td>0</td>\n",
       "      <td>99974</td>\n",
       "      <td>07/04/2016 06:15</td>\n",
       "    </tr>\n",
       "    <tr>\n",
       "      <th>87112</th>\n",
       "      <td>01/04/2016 05:02</td>\n",
       "      <td>6199</td>\n",
       "      <td>coupe</td>\n",
       "      <td>1999</td>\n",
       "      <td>manual</td>\n",
       "      <td>193</td>\n",
       "      <td>3er</td>\n",
       "      <td>150000</td>\n",
       "      <td>5</td>\n",
       "      <td>petrol</td>\n",
       "      <td>bmw</td>\n",
       "      <td>no</td>\n",
       "      <td>01/04/2016 00:00</td>\n",
       "      <td>0</td>\n",
       "      <td>99974</td>\n",
       "      <td>07/04/2016 06:15</td>\n",
       "    </tr>\n",
       "    <tr>\n",
       "      <th>45825</th>\n",
       "      <td>01/04/2016 10:38</td>\n",
       "      <td>3499</td>\n",
       "      <td>small</td>\n",
       "      <td>2005</td>\n",
       "      <td>manual</td>\n",
       "      <td>86</td>\n",
       "      <td>getz</td>\n",
       "      <td>50000</td>\n",
       "      <td>5</td>\n",
       "      <td>petrol</td>\n",
       "      <td>hyundai</td>\n",
       "      <td>no</td>\n",
       "      <td>01/04/2016 00:00</td>\n",
       "      <td>0</td>\n",
       "      <td>47800</td>\n",
       "      <td>07/04/2016 06:46</td>\n",
       "    </tr>\n",
       "    <tr>\n",
       "      <th>142496</th>\n",
       "      <td>01/04/2016 10:38</td>\n",
       "      <td>3499</td>\n",
       "      <td>small</td>\n",
       "      <td>2005</td>\n",
       "      <td>manual</td>\n",
       "      <td>86</td>\n",
       "      <td>getz</td>\n",
       "      <td>50000</td>\n",
       "      <td>5</td>\n",
       "      <td>petrol</td>\n",
       "      <td>hyundai</td>\n",
       "      <td>no</td>\n",
       "      <td>01/04/2016 00:00</td>\n",
       "      <td>0</td>\n",
       "      <td>47800</td>\n",
       "      <td>07/04/2016 06:46</td>\n",
       "    </tr>\n",
       "    <tr>\n",
       "      <th>12578</th>\n",
       "      <td>01/04/2016 12:57</td>\n",
       "      <td>1499</td>\n",
       "      <td>wagon</td>\n",
       "      <td>1995</td>\n",
       "      <td>manual</td>\n",
       "      <td>150</td>\n",
       "      <td>5er</td>\n",
       "      <td>150000</td>\n",
       "      <td>6</td>\n",
       "      <td>petrol</td>\n",
       "      <td>bmw</td>\n",
       "      <td>no</td>\n",
       "      <td>01/04/2016 00:00</td>\n",
       "      <td>0</td>\n",
       "      <td>25821</td>\n",
       "      <td>07/04/2016 09:44</td>\n",
       "    </tr>\n",
       "    <tr>\n",
       "      <th>...</th>\n",
       "      <td>...</td>\n",
       "      <td>...</td>\n",
       "      <td>...</td>\n",
       "      <td>...</td>\n",
       "      <td>...</td>\n",
       "      <td>...</td>\n",
       "      <td>...</td>\n",
       "      <td>...</td>\n",
       "      <td>...</td>\n",
       "      <td>...</td>\n",
       "      <td>...</td>\n",
       "      <td>...</td>\n",
       "      <td>...</td>\n",
       "      <td>...</td>\n",
       "      <td>...</td>\n",
       "      <td>...</td>\n",
       "    </tr>\n",
       "    <tr>\n",
       "      <th>68628</th>\n",
       "      <td>31/03/2016 19:51</td>\n",
       "      <td>999</td>\n",
       "      <td>small</td>\n",
       "      <td>1998</td>\n",
       "      <td>manual</td>\n",
       "      <td>60</td>\n",
       "      <td>corsa</td>\n",
       "      <td>150000</td>\n",
       "      <td>5</td>\n",
       "      <td>petrol</td>\n",
       "      <td>opel</td>\n",
       "      <td>no</td>\n",
       "      <td>31/03/2016 00:00</td>\n",
       "      <td>0</td>\n",
       "      <td>85111</td>\n",
       "      <td>06/04/2016 14:18</td>\n",
       "    </tr>\n",
       "    <tr>\n",
       "      <th>228351</th>\n",
       "      <td>31/03/2016 20:25</td>\n",
       "      <td>9600</td>\n",
       "      <td>sedan</td>\n",
       "      <td>2006</td>\n",
       "      <td>manual</td>\n",
       "      <td>226</td>\n",
       "      <td>focus</td>\n",
       "      <td>125000</td>\n",
       "      <td>4</td>\n",
       "      <td>petrol</td>\n",
       "      <td>ford</td>\n",
       "      <td>no</td>\n",
       "      <td>31/03/2016 00:00</td>\n",
       "      <td>0</td>\n",
       "      <td>55469</td>\n",
       "      <td>06/04/2016 14:15</td>\n",
       "    </tr>\n",
       "    <tr>\n",
       "      <th>27192</th>\n",
       "      <td>31/03/2016 20:25</td>\n",
       "      <td>9600</td>\n",
       "      <td>sedan</td>\n",
       "      <td>2006</td>\n",
       "      <td>manual</td>\n",
       "      <td>226</td>\n",
       "      <td>focus</td>\n",
       "      <td>125000</td>\n",
       "      <td>4</td>\n",
       "      <td>petrol</td>\n",
       "      <td>ford</td>\n",
       "      <td>no</td>\n",
       "      <td>31/03/2016 00:00</td>\n",
       "      <td>0</td>\n",
       "      <td>55469</td>\n",
       "      <td>06/04/2016 14:15</td>\n",
       "    </tr>\n",
       "    <tr>\n",
       "      <th>30499</th>\n",
       "      <td>31/03/2016 23:51</td>\n",
       "      <td>5999</td>\n",
       "      <td>wagon</td>\n",
       "      <td>2007</td>\n",
       "      <td>manual</td>\n",
       "      <td>120</td>\n",
       "      <td>astra</td>\n",
       "      <td>150000</td>\n",
       "      <td>3</td>\n",
       "      <td>gasoline</td>\n",
       "      <td>opel</td>\n",
       "      <td>no</td>\n",
       "      <td>31/03/2016 00:00</td>\n",
       "      <td>0</td>\n",
       "      <td>95482</td>\n",
       "      <td>07/04/2016 00:17</td>\n",
       "    </tr>\n",
       "    <tr>\n",
       "      <th>165358</th>\n",
       "      <td>31/03/2016 23:51</td>\n",
       "      <td>5999</td>\n",
       "      <td>wagon</td>\n",
       "      <td>2007</td>\n",
       "      <td>manual</td>\n",
       "      <td>120</td>\n",
       "      <td>astra</td>\n",
       "      <td>150000</td>\n",
       "      <td>3</td>\n",
       "      <td>gasoline</td>\n",
       "      <td>opel</td>\n",
       "      <td>no</td>\n",
       "      <td>31/03/2016 00:00</td>\n",
       "      <td>0</td>\n",
       "      <td>95482</td>\n",
       "      <td>07/04/2016 00:17</td>\n",
       "    </tr>\n",
       "  </tbody>\n",
       "</table>\n",
       "<p>524 rows × 16 columns</p>\n",
       "</div>"
      ],
      "text/plain": [
       "             DateCrawled  Price VehicleType  RegistrationYear Gearbox  Power  \\\n",
       "90786   01/04/2016 05:02   6199       coupe              1999  manual    193   \n",
       "87112   01/04/2016 05:02   6199       coupe              1999  manual    193   \n",
       "45825   01/04/2016 10:38   3499       small              2005  manual     86   \n",
       "142496  01/04/2016 10:38   3499       small              2005  manual     86   \n",
       "12578   01/04/2016 12:57   1499       wagon              1995  manual    150   \n",
       "...                  ...    ...         ...               ...     ...    ...   \n",
       "68628   31/03/2016 19:51    999       small              1998  manual     60   \n",
       "228351  31/03/2016 20:25   9600       sedan              2006  manual    226   \n",
       "27192   31/03/2016 20:25   9600       sedan              2006  manual    226   \n",
       "30499   31/03/2016 23:51   5999       wagon              2007  manual    120   \n",
       "165358  31/03/2016 23:51   5999       wagon              2007  manual    120   \n",
       "\n",
       "        Model  Mileage  RegistrationMonth  FuelType    Brand NotRepaired  \\\n",
       "90786     3er   150000                  5    petrol      bmw          no   \n",
       "87112     3er   150000                  5    petrol      bmw          no   \n",
       "45825    getz    50000                  5    petrol  hyundai          no   \n",
       "142496   getz    50000                  5    petrol  hyundai          no   \n",
       "12578     5er   150000                  6    petrol      bmw          no   \n",
       "...       ...      ...                ...       ...      ...         ...   \n",
       "68628   corsa   150000                  5    petrol     opel          no   \n",
       "228351  focus   125000                  4    petrol     ford          no   \n",
       "27192   focus   125000                  4    petrol     ford          no   \n",
       "30499   astra   150000                  3  gasoline     opel          no   \n",
       "165358  astra   150000                  3  gasoline     opel          no   \n",
       "\n",
       "             DateCreated  NumberOfPictures  PostalCode          LastSeen  \n",
       "90786   01/04/2016 00:00                 0       99974  07/04/2016 06:15  \n",
       "87112   01/04/2016 00:00                 0       99974  07/04/2016 06:15  \n",
       "45825   01/04/2016 00:00                 0       47800  07/04/2016 06:46  \n",
       "142496  01/04/2016 00:00                 0       47800  07/04/2016 06:46  \n",
       "12578   01/04/2016 00:00                 0       25821  07/04/2016 09:44  \n",
       "...                  ...               ...         ...               ...  \n",
       "68628   31/03/2016 00:00                 0       85111  06/04/2016 14:18  \n",
       "228351  31/03/2016 00:00                 0       55469  06/04/2016 14:15  \n",
       "27192   31/03/2016 00:00                 0       55469  06/04/2016 14:15  \n",
       "30499   31/03/2016 00:00                 0       95482  07/04/2016 00:17  \n",
       "165358  31/03/2016 00:00                 0       95482  07/04/2016 00:17  \n",
       "\n",
       "[524 rows x 16 columns]"
      ]
     },
     "execution_count": 6,
     "metadata": {},
     "output_type": "execute_result"
    }
   ],
   "source": [
    "# retreiev which rows were repeated\n",
    "duplicates = df.duplicated(keep=False)\n",
    "df.loc[duplicates].sort_values([\"DateCrawled\"])"
   ]
  },
  {
   "cell_type": "markdown",
   "metadata": {},
   "source": [
    "Masalah yang teridentifikasi sejauh ini:\n",
    "\n",
    "1. Nama kolom harus menggunakan huruf kecil\n",
    "2. Tipe data beberapa kolom kurang sesuai\n",
    "3. 5 kolom memiliki nilai yang hilang dan kolom pangkat memiliki nol, harus ditangani.\n",
    "4. 262 nilai duplikat untuk saat ini (setelah mengisi nilai yang hilang, nilai ini mungkin bertambah)"
   ]
  },
  {
   "cell_type": "markdown",
   "metadata": {},
   "source": [
    "### Preprocessing"
   ]
  },
  {
   "cell_type": "markdown",
   "metadata": {
    "scrolled": true
   },
   "source": [
    "#### Nama Kolom\n"
   ]
  },
  {
   "cell_type": "code",
   "execution_count": 8,
   "metadata": {},
   "outputs": [
    {
     "data": {
      "text/html": [
       "<div>\n",
       "<style scoped>\n",
       "    .dataframe tbody tr th:only-of-type {\n",
       "        vertical-align: middle;\n",
       "    }\n",
       "\n",
       "    .dataframe tbody tr th {\n",
       "        vertical-align: top;\n",
       "    }\n",
       "\n",
       "    .dataframe thead th {\n",
       "        text-align: right;\n",
       "    }\n",
       "</style>\n",
       "<table border=\"1\" class=\"dataframe\">\n",
       "  <thead>\n",
       "    <tr style=\"text-align: right;\">\n",
       "      <th></th>\n",
       "      <th>datecrawled</th>\n",
       "      <th>price</th>\n",
       "      <th>vehicletype</th>\n",
       "      <th>registrationyear</th>\n",
       "      <th>gearbox</th>\n",
       "      <th>power</th>\n",
       "      <th>model</th>\n",
       "      <th>mileage</th>\n",
       "      <th>registrationmonth</th>\n",
       "      <th>fueltype</th>\n",
       "      <th>brand</th>\n",
       "      <th>notrepaired</th>\n",
       "      <th>datecreated</th>\n",
       "      <th>numberofpictures</th>\n",
       "      <th>postalcode</th>\n",
       "      <th>lastseen</th>\n",
       "    </tr>\n",
       "  </thead>\n",
       "  <tbody>\n",
       "    <tr>\n",
       "      <th>0</th>\n",
       "      <td>24/03/2016 11:52</td>\n",
       "      <td>480</td>\n",
       "      <td>NaN</td>\n",
       "      <td>1993</td>\n",
       "      <td>manual</td>\n",
       "      <td>0</td>\n",
       "      <td>golf</td>\n",
       "      <td>150000</td>\n",
       "      <td>0</td>\n",
       "      <td>petrol</td>\n",
       "      <td>volkswagen</td>\n",
       "      <td>NaN</td>\n",
       "      <td>24/03/2016 00:00</td>\n",
       "      <td>0</td>\n",
       "      <td>70435</td>\n",
       "      <td>07/04/2016 03:16</td>\n",
       "    </tr>\n",
       "  </tbody>\n",
       "</table>\n",
       "</div>"
      ],
      "text/plain": [
       "        datecrawled  price vehicletype  registrationyear gearbox  power model  \\\n",
       "0  24/03/2016 11:52    480         NaN              1993  manual      0  golf   \n",
       "\n",
       "   mileage  registrationmonth fueltype       brand notrepaired  \\\n",
       "0   150000                  0   petrol  volkswagen         NaN   \n",
       "\n",
       "        datecreated  numberofpictures  postalcode          lastseen  \n",
       "0  24/03/2016 00:00                 0       70435  07/04/2016 03:16  "
      ]
     },
     "execution_count": 8,
     "metadata": {},
     "output_type": "execute_result"
    }
   ],
   "source": [
    "# convert column names to lowercase\n",
    "df.columns = df.columns.str.lower().str.strip()\n",
    "df.head(1)"
   ]
  },
  {
   "cell_type": "markdown",
   "metadata": {},
   "source": [
    "#### Tipe Kolom"
   ]
  },
  {
   "cell_type": "code",
   "execution_count": 9,
   "metadata": {},
   "outputs": [
    {
     "data": {
      "text/plain": [
       "datecrawled          datetime64[ns]\n",
       "price                         int64\n",
       "vehicletype                  object\n",
       "registrationyear              int64\n",
       "gearbox                      object\n",
       "power                         int64\n",
       "model                        object\n",
       "mileage                       int64\n",
       "registrationmonth             int64\n",
       "fueltype                     object\n",
       "brand                        object\n",
       "notrepaired                  object\n",
       "datecreated          datetime64[ns]\n",
       "numberofpictures              int64\n",
       "postalcode                    int64\n",
       "lastseen             datetime64[ns]\n",
       "dtype: object"
      ]
     },
     "execution_count": 9,
     "metadata": {},
     "output_type": "execute_result"
    }
   ],
   "source": [
    "df[[\"datecrawled\", \"datecreated\", \"lastseen\"]] = df[\n",
    "    [\"datecrawled\", \"datecreated\", \"lastseen\"]\n",
    "].apply(pd.to_datetime, infer_datetime_format=True)\n",
    "df.dtypes"
   ]
  },
  {
   "cell_type": "markdown",
   "metadata": {},
   "source": [
    "#### Missing Values"
   ]
  },
  {
   "cell_type": "code",
   "execution_count": 10,
   "metadata": {},
   "outputs": [
    {
     "data": {
      "text/plain": [
       "datecrawled          0\n",
       "price                0\n",
       "vehicletype          0\n",
       "registrationyear     0\n",
       "gearbox              0\n",
       "power                0\n",
       "model                0\n",
       "mileage              0\n",
       "registrationmonth    0\n",
       "fueltype             0\n",
       "brand                0\n",
       "notrepaired          0\n",
       "datecreated          0\n",
       "numberofpictures     0\n",
       "postalcode           0\n",
       "lastseen             0\n",
       "dtype: int64"
      ]
     },
     "execution_count": 10,
     "metadata": {},
     "output_type": "execute_result"
    }
   ],
   "source": [
    "columns_with_missing_values = [\n",
    "    \"vehicletype\",\n",
    "    \"gearbox\",\n",
    "    \"model\",\n",
    "    \"fueltype\",\n",
    "    \"notrepaired\",\n",
    "]\n",
    "df[columns_with_missing_values] = df[columns_with_missing_values].fillna(\"unknown\")\n",
    "df.isna().sum()"
   ]
  },
  {
   "cell_type": "markdown",
   "metadata": {},
   "source": [
    "#### Duplicates"
   ]
  },
  {
   "cell_type": "code",
   "execution_count": 11,
   "metadata": {},
   "outputs": [
    {
     "name": "stdout",
     "output_type": "stream",
     "text": [
      "Number of duplicated rows 262 and total number of rows 354369.\n",
      "\n",
      "==================== After dropping ducplicates ====================\n",
      "Number of duplicated rows 0 and total number of rows 354107.\n"
     ]
    }
   ],
   "source": [
    "print(\n",
    "    f\"Number of duplicated rows {df.duplicated().sum()} and total number of rows {df.shape[0]}.\"\n",
    ")\n",
    "df = df.drop_duplicates()\n",
    "print()\n",
    "print(\"=\" * 20, \"After dropping ducplicates\", \"=\" * 20)\n",
    "print(\n",
    "    f\"Number of duplicated rows {df.duplicated().sum()} and total number of rows {df.shape[0]}.\"\n",
    ")"
   ]
  },
  {
   "cell_type": "markdown",
   "metadata": {},
   "source": [
    "#### Membuat Kolom Umur\n"
   ]
  },
  {
   "cell_type": "code",
   "execution_count": 12,
   "metadata": {},
   "outputs": [
    {
     "data": {
      "text/plain": [
       "(count    354107.000000\n",
       " mean       2004.235355\n",
       " std          90.261168\n",
       " min        1000.000000\n",
       " 25%        1999.000000\n",
       " 50%        2003.000000\n",
       " 75%        2008.000000\n",
       " max        9999.000000\n",
       " Name: registrationyear, dtype: float64,\n",
       " count    354107.000000\n",
       " mean       2015.999924\n",
       " std           0.009049\n",
       " min        2014.000000\n",
       " 25%        2016.000000\n",
       " 50%        2016.000000\n",
       " 75%        2016.000000\n",
       " max        2016.000000\n",
       " Name: datecreated, dtype: float64)"
      ]
     },
     "execution_count": 12,
     "metadata": {},
     "output_type": "execute_result"
    }
   ],
   "source": [
    "# periksa statistik deskriptif kolom tahun pendaftaran dan tanggal\n",
    "df.registrationyear.describe(), df.datecreated.dt.year.describe()"
   ]
  },
  {
   "cell_type": "code",
   "execution_count": 13,
   "metadata": {},
   "outputs": [
    {
     "data": {
      "text/plain": [
       "4.121635550836329"
      ]
     },
     "metadata": {},
     "output_type": "display_data"
    },
    {
     "name": "stdout",
     "output_type": "stream",
     "text": [
      "\n"
     ]
    },
    {
     "data": {
      "text/html": [
       "<div>\n",
       "<style scoped>\n",
       "    .dataframe tbody tr th:only-of-type {\n",
       "        vertical-align: middle;\n",
       "    }\n",
       "\n",
       "    .dataframe tbody tr th {\n",
       "        vertical-align: top;\n",
       "    }\n",
       "\n",
       "    .dataframe thead th {\n",
       "        text-align: right;\n",
       "    }\n",
       "</style>\n",
       "<table border=\"1\" class=\"dataframe\">\n",
       "  <thead>\n",
       "    <tr style=\"text-align: right;\">\n",
       "      <th></th>\n",
       "      <th>datecrawled</th>\n",
       "      <th>price</th>\n",
       "      <th>vehicletype</th>\n",
       "      <th>registrationyear</th>\n",
       "      <th>gearbox</th>\n",
       "      <th>power</th>\n",
       "      <th>model</th>\n",
       "      <th>mileage</th>\n",
       "      <th>registrationmonth</th>\n",
       "      <th>fueltype</th>\n",
       "      <th>brand</th>\n",
       "      <th>notrepaired</th>\n",
       "      <th>datecreated</th>\n",
       "      <th>numberofpictures</th>\n",
       "      <th>postalcode</th>\n",
       "      <th>lastseen</th>\n",
       "      <th>vehicleage</th>\n",
       "    </tr>\n",
       "  </thead>\n",
       "  <tbody>\n",
       "    <tr>\n",
       "      <th>0</th>\n",
       "      <td>2016-03-24 11:52:00</td>\n",
       "      <td>480</td>\n",
       "      <td>unknown</td>\n",
       "      <td>1993</td>\n",
       "      <td>manual</td>\n",
       "      <td>0</td>\n",
       "      <td>golf</td>\n",
       "      <td>150000</td>\n",
       "      <td>0</td>\n",
       "      <td>petrol</td>\n",
       "      <td>volkswagen</td>\n",
       "      <td>unknown</td>\n",
       "      <td>2016-03-24</td>\n",
       "      <td>0</td>\n",
       "      <td>70435</td>\n",
       "      <td>2016-07-04 03:16:00</td>\n",
       "      <td>23</td>\n",
       "    </tr>\n",
       "    <tr>\n",
       "      <th>1</th>\n",
       "      <td>2016-03-24 10:58:00</td>\n",
       "      <td>18300</td>\n",
       "      <td>coupe</td>\n",
       "      <td>2011</td>\n",
       "      <td>manual</td>\n",
       "      <td>190</td>\n",
       "      <td>unknown</td>\n",
       "      <td>125000</td>\n",
       "      <td>5</td>\n",
       "      <td>gasoline</td>\n",
       "      <td>audi</td>\n",
       "      <td>yes</td>\n",
       "      <td>2016-03-24</td>\n",
       "      <td>0</td>\n",
       "      <td>66954</td>\n",
       "      <td>2016-07-04 01:46:00</td>\n",
       "      <td>5</td>\n",
       "    </tr>\n",
       "  </tbody>\n",
       "</table>\n",
       "</div>"
      ],
      "text/plain": [
       "          datecrawled  price vehicletype  registrationyear gearbox  power  \\\n",
       "0 2016-03-24 11:52:00    480     unknown              1993  manual      0   \n",
       "1 2016-03-24 10:58:00  18300       coupe              2011  manual    190   \n",
       "\n",
       "     model  mileage  registrationmonth  fueltype       brand notrepaired  \\\n",
       "0     golf   150000                  0    petrol  volkswagen     unknown   \n",
       "1  unknown   125000                  5  gasoline        audi         yes   \n",
       "\n",
       "  datecreated  numberofpictures  postalcode            lastseen  vehicleage  \n",
       "0  2016-03-24                 0       70435 2016-07-04 03:16:00          23  \n",
       "1  2016-03-24                 0       66954 2016-07-04 01:46:00           5  "
      ]
     },
     "execution_count": 13,
     "metadata": {},
     "output_type": "execute_result"
    }
   ],
   "source": [
    "# Memilih tahun di bawah 1900 dan di atas 'tanggal dibuat'\n",
    "condition = (df[\"registrationyear\"] > df[\"datecreated\"].dt.year) | (\n",
    "    df[\"registrationyear\"] < 1900\n",
    ")\n",
    "display(len(df[condition]) / len(df) * 100)\n",
    "print()\n",
    "\n",
    "# Memilih data yang tidak memiliki kondisi di atas\n",
    "df = df[~(condition)]\n",
    "\n",
    "# Menghitung umur dari mesin\n",
    "df[\"vehicleage\"] = df[\"datecreated\"].dt.year - df[\"registrationyear\"]\n",
    "\n",
    "# Mengecheck hasil\n",
    "df.head(2)"
   ]
  },
  {
   "cell_type": "markdown",
   "metadata": {
    "scrolled": true
   },
   "source": [
    "### Kesimpulan Sementara"
   ]
  },
  {
   "cell_type": "markdown",
   "metadata": {
    "scrolled": true
   },
   "source": [
    "Data dengan 354369 baris dan 16 kolom telah diimpor dan diperiksa, observasi/perubahan berikut dilakukan:\n",
    "1. Kolom nama data dalam huruf campuran, semuanya diubah menjadi huruf kecil.\n",
    "2. Kolom `datecrawled`, `datecreated`, dan `lastseen` berisi tanggal tetapi dimuat sebagai tipe data objek. Mereka dikonversi ke tipe data datetime pandas.\n",
    "3. Kolom tipe `vehicletype`, `gearbox`, `model`, `fueltype`, and `notrepaired` mengandung nilai yang hilang. Semua kolom ini berisi tipe data kategorikal. Oleh karena itu, semua nilai yang hilang diisi sebagai `\"Unknown\"`.\n",
    "4. Total 262 baris diduplikasi dalam data asli. Ditemukan bahwa mereka adalah duplikat yang identik semua nya dihilangkan.\n",
    "5. Kolom baru yang berisi `vehicleage`, dibuat menggunakan kolom `datecreated` and `registrationyear`. \n",
    "\n",
    "Namun, pada langkah ini, terlihat bahwa data mengandung kesalahan pada kolom `registrationyear`, ada tahun yang paling rendah `1000` dan paling tinggi `9999`. Semua tahun lebih kecil dari 1900 (tahun ketika mobil menjadi komersial) dan lebih tinggi dari tahun pembuatan tanggal profil dibatalkan. Jumlah baris yang dihilangkan sekitar 4% dari data. Semua kesalahan yang disebutkan mungkin berasal dari alasan teknis, kesalahan manusia (salah ketik), atau selama perayapan web, penggabungan kumpulan data, dll."
   ]
  },
  {
   "cell_type": "markdown",
   "metadata": {},
   "source": [
    "## EDA"
   ]
  },
  {
   "cell_type": "markdown",
   "metadata": {},
   "source": [
    "Mari mengenal data lebih jauh dengan memvisualisasikan datanya dengan membuat plot beberapa diagram."
   ]
  },
  {
   "cell_type": "markdown",
   "metadata": {},
   "source": [
    "### Kolom Numerikal"
   ]
  },
  {
   "cell_type": "code",
   "execution_count": 14,
   "metadata": {},
   "outputs": [
    {
     "data": {
      "text/html": [
       "<div>\n",
       "<style scoped>\n",
       "    .dataframe tbody tr th:only-of-type {\n",
       "        vertical-align: middle;\n",
       "    }\n",
       "\n",
       "    .dataframe tbody tr th {\n",
       "        vertical-align: top;\n",
       "    }\n",
       "\n",
       "    .dataframe thead th {\n",
       "        text-align: right;\n",
       "    }\n",
       "</style>\n",
       "<table border=\"1\" class=\"dataframe\">\n",
       "  <thead>\n",
       "    <tr style=\"text-align: right;\">\n",
       "      <th></th>\n",
       "      <th>price</th>\n",
       "      <th>power</th>\n",
       "      <th>mileage</th>\n",
       "      <th>vehicleage</th>\n",
       "    </tr>\n",
       "  </thead>\n",
       "  <tbody>\n",
       "    <tr>\n",
       "      <th>count</th>\n",
       "      <td>339512.000000</td>\n",
       "      <td>339512.000000</td>\n",
       "      <td>339512.000000</td>\n",
       "      <td>339512.000000</td>\n",
       "    </tr>\n",
       "    <tr>\n",
       "      <th>mean</th>\n",
       "      <td>4471.106815</td>\n",
       "      <td>110.998374</td>\n",
       "      <td>128086.753929</td>\n",
       "      <td>13.518061</td>\n",
       "    </tr>\n",
       "    <tr>\n",
       "      <th>std</th>\n",
       "      <td>4546.229568</td>\n",
       "      <td>186.945091</td>\n",
       "      <td>37896.907472</td>\n",
       "      <td>7.091876</td>\n",
       "    </tr>\n",
       "    <tr>\n",
       "      <th>min</th>\n",
       "      <td>0.000000</td>\n",
       "      <td>0.000000</td>\n",
       "      <td>5000.000000</td>\n",
       "      <td>0.000000</td>\n",
       "    </tr>\n",
       "    <tr>\n",
       "      <th>25%</th>\n",
       "      <td>1099.000000</td>\n",
       "      <td>69.000000</td>\n",
       "      <td>125000.000000</td>\n",
       "      <td>9.000000</td>\n",
       "    </tr>\n",
       "    <tr>\n",
       "      <th>50%</th>\n",
       "      <td>2799.000000</td>\n",
       "      <td>105.000000</td>\n",
       "      <td>150000.000000</td>\n",
       "      <td>13.000000</td>\n",
       "    </tr>\n",
       "    <tr>\n",
       "      <th>75%</th>\n",
       "      <td>6500.000000</td>\n",
       "      <td>143.000000</td>\n",
       "      <td>150000.000000</td>\n",
       "      <td>17.000000</td>\n",
       "    </tr>\n",
       "    <tr>\n",
       "      <th>max</th>\n",
       "      <td>20000.000000</td>\n",
       "      <td>20000.000000</td>\n",
       "      <td>150000.000000</td>\n",
       "      <td>106.000000</td>\n",
       "    </tr>\n",
       "  </tbody>\n",
       "</table>\n",
       "</div>"
      ],
      "text/plain": [
       "               price          power        mileage     vehicleage\n",
       "count  339512.000000  339512.000000  339512.000000  339512.000000\n",
       "mean     4471.106815     110.998374  128086.753929      13.518061\n",
       "std      4546.229568     186.945091   37896.907472       7.091876\n",
       "min         0.000000       0.000000    5000.000000       0.000000\n",
       "25%      1099.000000      69.000000  125000.000000       9.000000\n",
       "50%      2799.000000     105.000000  150000.000000      13.000000\n",
       "75%      6500.000000     143.000000  150000.000000      17.000000\n",
       "max     20000.000000   20000.000000  150000.000000     106.000000"
      ]
     },
     "execution_count": 14,
     "metadata": {},
     "output_type": "execute_result"
    }
   ],
   "source": [
    "# Memilih semua kolom numerikal dari data\n",
    "numerical_cols = [\"price\", \"power\", \"mileage\", \"vehicleage\"]\n",
    "\n",
    "# Menampilkan statistik deskriptif kolom numerik\n",
    "df[numerical_cols].describe()"
   ]
  },
  {
   "cell_type": "markdown",
   "metadata": {},
   "source": [
    "Sepertinya masih memiliki kesalahan pada data kami. Salah satu nya sebuah mobil tidak bisa mempunyai tenaga setinggi 20000. Sedikit pencarian di google menghasilkan bahwa mobil dengan tenaga tertinggi sampai saat ini adalah 1500"
   ]
  },
  {
   "cell_type": "code",
   "execution_count": 15,
   "metadata": {},
   "outputs": [
    {
     "data": {
      "image/png": "[encoded data removed]",
      "text/plain": [
       "<Figure size 1008x288 with 4 Axes>"
      ]
     },
     "metadata": {
      "needs_background": "light"
     },
     "output_type": "display_data"
    }
   ],
   "source": [
    "# Membuat histograms dari semua kolom numerik \n",
    "fig, ax = plt.subplots(2, 2, figsize=(14, 4))\n",
    "sns.distplot(df[\"power\"], kde=False, hist_kws={\"range\": (0, 1500)}, ax=ax[0, 0])\n",
    "ax[0, 0].set_title(\"Power distribution\")\n",
    "sns.distplot(df[\"price\"], kde=False, ax=ax[0, 1])\n",
    "sns.distplot(df[\"mileage\"], kde=False, hist_kws={\"range\": (5000, 150000)}, ax=ax[1, 0])\n",
    "sns.distplot(df[\"vehicleage\"], kde=False, ax=ax[1, 1])\n",
    "\n",
    "plt.show()"
   ]
  },
  {
   "cell_type": "code",
   "execution_count": 16,
   "metadata": {},
   "outputs": [
    {
     "data": {
      "text/plain": [
       "254.0"
      ]
     },
     "execution_count": 16,
     "metadata": {},
     "output_type": "execute_result"
    }
   ],
   "source": [
    "# Menghitung outliers untuk kolom 'power'\n",
    "(\n",
    "    df[\"power\"].quantile(0.75)\n",
    "    + (df[\"power\"].quantile(0.75) - df[\"power\"].quantile(0.25)) * 1.5\n",
    ")"
   ]
  },
  {
   "cell_type": "code",
   "execution_count": 17,
   "metadata": {},
   "outputs": [
    {
     "name": "stdout",
     "output_type": "stream",
     "text": [
      "8038 0.12400150804684369\n"
     ]
    },
    {
     "data": {
      "image/png": "[encoded data removed]",
      "text/plain": [
       "<Figure size 432x288 with 1 Axes>"
      ]
     },
     "metadata": {
      "needs_background": "light"
     },
     "output_type": "display_data"
    }
   ],
   "source": [
    "# Berapa banyak baris dan berapa presentase di total outliers kolom 'power'\n",
    "print(len(df[df[\"power\"] > 245]), len(df[df[\"power\"] > 500]) / len(df) * 100)\n",
    "\n",
    "# Memilih semua baris untuk 'power' dibawah dari 245\n",
    "df = df[~(df[\"power\"] > 245)]\n",
    "\n",
    "# plot the boxplot\n",
    "df[\"power\"].plot(kind=\"box\")\n",
    "plt.show()"
   ]
  },
  {
   "cell_type": "markdown",
   "metadata": {},
   "source": [
    "### Kolom Kategorikal"
   ]
  },
  {
   "cell_type": "code",
   "execution_count": 18,
   "metadata": {},
   "outputs": [
    {
     "data": {
      "text/html": [
       "<div>\n",
       "<style scoped>\n",
       "    .dataframe tbody tr th:only-of-type {\n",
       "        vertical-align: middle;\n",
       "    }\n",
       "\n",
       "    .dataframe tbody tr th {\n",
       "        vertical-align: top;\n",
       "    }\n",
       "\n",
       "    .dataframe thead th {\n",
       "        text-align: right;\n",
       "    }\n",
       "</style>\n",
       "<table border=\"1\" class=\"dataframe\">\n",
       "  <thead>\n",
       "    <tr style=\"text-align: right;\">\n",
       "      <th></th>\n",
       "      <th>vehicletype</th>\n",
       "      <th>gearbox</th>\n",
       "      <th>model</th>\n",
       "      <th>fueltype</th>\n",
       "      <th>brand</th>\n",
       "    </tr>\n",
       "  </thead>\n",
       "  <tbody>\n",
       "    <tr>\n",
       "      <th>count</th>\n",
       "      <td>331474</td>\n",
       "      <td>331474</td>\n",
       "      <td>331474</td>\n",
       "      <td>331474</td>\n",
       "      <td>331474</td>\n",
       "    </tr>\n",
       "    <tr>\n",
       "      <th>unique</th>\n",
       "      <td>9</td>\n",
       "      <td>3</td>\n",
       "      <td>250</td>\n",
       "      <td>8</td>\n",
       "      <td>40</td>\n",
       "    </tr>\n",
       "    <tr>\n",
       "      <th>top</th>\n",
       "      <td>sedan</td>\n",
       "      <td>manual</td>\n",
       "      <td>golf</td>\n",
       "      <td>petrol</td>\n",
       "      <td>volkswagen</td>\n",
       "    </tr>\n",
       "    <tr>\n",
       "      <th>freq</th>\n",
       "      <td>88048</td>\n",
       "      <td>255167</td>\n",
       "      <td>27315</td>\n",
       "      <td>203857</td>\n",
       "      <td>72503</td>\n",
       "    </tr>\n",
       "  </tbody>\n",
       "</table>\n",
       "</div>"
      ],
      "text/plain": [
       "       vehicletype gearbox   model fueltype       brand\n",
       "count       331474  331474  331474   331474      331474\n",
       "unique           9       3     250        8          40\n",
       "top          sedan  manual    golf   petrol  volkswagen\n",
       "freq         88048  255167   27315   203857       72503"
      ]
     },
     "execution_count": 18,
     "metadata": {},
     "output_type": "execute_result"
    }
   ],
   "source": [
    "# Statistik deskriptif kolom kategori\n",
    "categorical_cols = [\"vehicletype\", \"gearbox\", \"model\", \"fueltype\", \"brand\"]\n",
    "df[categorical_cols].describe()"
   ]
  },
  {
   "cell_type": "code",
   "execution_count": 19,
   "metadata": {},
   "outputs": [
    {
     "data": {
      "image/png": "[encoded data removed]",
      "text/plain": [
       "<Figure size 1008x576 with 4 Axes>"
      ]
     },
     "metadata": {
      "needs_background": "light"
     },
     "output_type": "display_data"
    }
   ],
   "source": [
    "# Menampilkan plots number dari tipe vehicle, gearbox, fueltype dan car brand\n",
    "fig, ax = plt.subplots(4, 1, figsize=(14, 8))\n",
    "for i, j in enumerate([\"vehicletype\", \"gearbox\", \"fueltype\", \"brand\"]):\n",
    "    sns.countplot(df[j], ax=ax[i])\n",
    "    ax[i].set_title(j)\n",
    "ax[3].tick_params(\n",
    "    axis=\"x\",\n",
    "    rotation=45,\n",
    ")\n",
    "plt.tight_layout()\n",
    "plt.show()"
   ]
  },
  {
   "cell_type": "markdown",
   "metadata": {},
   "source": [
    "### Kesimpulan Sementara "
   ]
  },
  {
   "cell_type": "markdown",
   "metadata": {},
   "source": [
    "Selama `EDA`, diamati adanya kesalahan pada kolom pangkat, yang berisi nilai horsepower setinggi 20.000. Semua nilai di atas Q3+IQR*1.5 dihilangkan (hanya 0,12% dari data).\n",
    "\n",
    "Teramati bahwa **yang paling banyak terjual**:\n",
    "\n",
    "1. merek: Volkswagen\n",
    "2. model: golf\n",
    "3. vehicle type: sedan\n",
    "4. gearbox: manual (lebih dari dua pertiga dari semuanya)\n",
    "5. fuel type: bensin (sekitar dua pertiga dari semuanya)"
   ]
  },
  {
   "cell_type": "markdown",
   "metadata": {},
   "source": [
    "## Model Training "
   ]
  },
  {
   "cell_type": "markdown",
   "metadata": {},
   "source": [
    "Di bagian ini akan melatih model yang berbeda, dan menyesuaikan beberapa hyperparameter, jika memungkinkan tentunya. Algoritma berikut yang akan kita gunakan:\n",
    "\n",
    "1. Regresi linier\n",
    "2. RandomForestRegressor (dengan n_estimators dan max_ depth yang berbeda)\n",
    "3. CatBoostRegressor (dengan jumlah iterasi dan kedalaman berbeda)\n",
    "4. LightBGMRegressor (dengan n_estimaros dan max_ depth berbeda)\n",
    "5. XGBoostRegressor (dengan parameter default)\n",
    "\n",
    "Namun, sebelum itu, kami harus menyebutkan bahwa kami tidak memerlukan semua kolom data. Karena beberapa kolom tidak akan menambah nilai prediksi. Oleh karena itu akan memilih kolom yang paling penting."
   ]
  },
  {
   "cell_type": "code",
   "execution_count": 20,
   "metadata": {},
   "outputs": [
    {
     "data": {
      "text/plain": [
       "(331474, 9)"
      ]
     },
     "execution_count": 20,
     "metadata": {},
     "output_type": "execute_result"
    }
   ],
   "source": [
    "# Memilih kolom yang mana penting untuk modeling\n",
    "selected_cols = [\n",
    "    \"price\",\n",
    "    \"vehicletype\",\n",
    "    \"gearbox\",\n",
    "    \"power\",\n",
    "    \"model\",\n",
    "    \"mileage\",\n",
    "    \"fueltype\",\n",
    "    \"brand\",\n",
    "    \"vehicleage\",\n",
    "]\n",
    "df = df[selected_cols]\n",
    "\n",
    "# Melihat shape dari dataframe yang baru\n",
    "df.shape"
   ]
  },
  {
   "cell_type": "code",
   "execution_count": 21,
   "metadata": {},
   "outputs": [],
   "source": [
    "# Menententukan kolom kategorikal dan numerik, yang akan digunakan melalui pelatihan algoritma\n",
    "categorical_columns = [\"vehicletype\", \"gearbox\", \"model\", \"fueltype\", \"brand\"]\n",
    "numerical_columns = [\"power\", \"mileage\", \"vehicleage\"]"
   ]
  },
  {
   "cell_type": "markdown",
   "metadata": {},
   "source": [
    "### Linier Regression "
   ]
  },
  {
   "cell_type": "code",
   "execution_count": 22,
   "metadata": {},
   "outputs": [],
   "source": [
    "# Untuk regresi one hot encoding  bekerja dengan baik\n",
    "df_ohe = pd.get_dummies(df, drop_first=True)\n",
    "df_ohe.shape\n",
    "\n",
    "# Mendapatkan target dan feature columns\n",
    "X = df_ohe.drop(\"price\", axis=1)\n",
    "y = df_ohe[\"price\"]\n",
    "\n",
    "# split into training dan testing sets\n",
    "X_train, X_test, y_train, y_test = train_test_split(\n",
    "    X, y, test_size=0.3, random_state=234\n",
    ")\n",
    "\n",
    "# Penskalaan sangat penting untuk model regresi\n",
    "numerical_columns = [\"power\", \"mileage\", \"vehicleage\"]\n",
    "scaler = StandardScaler()\n",
    "X_train[numerical_columns] = scaler.fit_transform(X_train[numerical_columns])\n",
    "X_test[numerical_columns] = scaler.transform(X_test[numerical_columns])"
   ]
  },
  {
   "cell_type": "code",
   "execution_count": 23,
   "metadata": {},
   "outputs": [
    {
     "name": "stdout",
     "output_type": "stream",
     "text": [
      "CPU times: user 15.5 s, sys: 2.06 s, total: 17.6 s\n",
      "Wall time: 17.6 s\n"
     ]
    },
    {
     "data": {
      "text/plain": [
       "LinearRegression()"
      ]
     },
     "execution_count": 23,
     "metadata": {},
     "output_type": "execute_result"
    }
   ],
   "source": [
    "%%time\n",
    "#linear regression model, hasil train dan predict\n",
    "lr_model = LinearRegression()\n",
    "lr_model.fit(X_train, y_train)"
   ]
  },
  {
   "cell_type": "code",
   "execution_count": 24,
   "metadata": {},
   "outputs": [
    {
     "name": "stdout",
     "output_type": "stream",
     "text": [
      "The RMSE score of the linear regression model is 2766.0508416273915.\n",
      "CPU times: user 76.4 ms, sys: 36.6 ms, total: 113 ms\n",
      "Wall time: 77.7 ms\n"
     ]
    }
   ],
   "source": [
    "%%time\n",
    "# Memprediksi target dan menghitung RMSE dan memeriksa waktu untuk prediksi\n",
    "y_pred = lr_model.predict(X_test)\n",
    "#Scores\n",
    "print(f'The RMSE score of the linear regression model is {(mean_squared_error(y_test, y_pred))**0.5}.')"
   ]
  },
  {
   "cell_type": "markdown",
   "metadata": {},
   "source": [
    "### Random Forest Regression"
   ]
  },
  {
   "cell_type": "markdown",
   "metadata": {},
   "source": [
    "Disini akan menggunakan kelas sklearn `OrindalEncoding` untuk menyandikan kolom kategorikal, ini bekerja lebih baik daripada OHE untuk algoritma berbasis pohon. Data yang disiapkan pada langkah ini akan digunakan untuk `RandomForest`, `LightGBM` dan `XGBoost`. Untuk `Catboost`  akan menyiapkan data tersendiri, karena bisa menangani data kategorikal."
   ]
  },
  {
   "cell_type": "code",
   "execution_count": 25,
   "metadata": {},
   "outputs": [
    {
     "data": {
      "text/html": [
       "<div>\n",
       "<style scoped>\n",
       "    .dataframe tbody tr th:only-of-type {\n",
       "        vertical-align: middle;\n",
       "    }\n",
       "\n",
       "    .dataframe tbody tr th {\n",
       "        vertical-align: top;\n",
       "    }\n",
       "\n",
       "    .dataframe thead th {\n",
       "        text-align: right;\n",
       "    }\n",
       "</style>\n",
       "<table border=\"1\" class=\"dataframe\">\n",
       "  <thead>\n",
       "    <tr style=\"text-align: right;\">\n",
       "      <th></th>\n",
       "      <th>price</th>\n",
       "      <th>vehicletype</th>\n",
       "      <th>gearbox</th>\n",
       "      <th>power</th>\n",
       "      <th>model</th>\n",
       "      <th>mileage</th>\n",
       "      <th>fueltype</th>\n",
       "      <th>brand</th>\n",
       "      <th>vehicleage</th>\n",
       "    </tr>\n",
       "  </thead>\n",
       "  <tbody>\n",
       "    <tr>\n",
       "      <th>0</th>\n",
       "      <td>480</td>\n",
       "      <td>7.0</td>\n",
       "      <td>1.0</td>\n",
       "      <td>0</td>\n",
       "      <td>116.0</td>\n",
       "      <td>150000</td>\n",
       "      <td>6.0</td>\n",
       "      <td>38.0</td>\n",
       "      <td>23</td>\n",
       "    </tr>\n",
       "    <tr>\n",
       "      <th>1</th>\n",
       "      <td>18300</td>\n",
       "      <td>2.0</td>\n",
       "      <td>1.0</td>\n",
       "      <td>190</td>\n",
       "      <td>227.0</td>\n",
       "      <td>125000</td>\n",
       "      <td>2.0</td>\n",
       "      <td>1.0</td>\n",
       "      <td>5</td>\n",
       "    </tr>\n",
       "  </tbody>\n",
       "</table>\n",
       "</div>"
      ],
      "text/plain": [
       "   price  vehicletype  gearbox  power  model  mileage  fueltype  brand  \\\n",
       "0    480          7.0      1.0      0  116.0   150000       6.0   38.0   \n",
       "1  18300          2.0      1.0    190  227.0   125000       2.0    1.0   \n",
       "\n",
       "   vehicleage  \n",
       "0          23  \n",
       "1           5  "
      ]
     },
     "execution_count": 25,
     "metadata": {},
     "output_type": "execute_result"
    }
   ],
   "source": [
    "# Mendapatkan kolom kategorikal\n",
    "df_lbe = df.copy()\n",
    "\n",
    "# Memmbangun pembuat enkode\n",
    "encoder = OrdinalEncoder()\n",
    "\n",
    "# Menyandikan kolom kategorikal dan mengubah nilai dalam kerangka data\n",
    "encoded = encoder.fit_transform(df_lbe[categorical_columns])\n",
    "df_lbe[categorical_columns] = encoded\n",
    "\n",
    "# Memeriksa df baru\n",
    "df_lbe.head(2)"
   ]
  },
  {
   "cell_type": "code",
   "execution_count": 26,
   "metadata": {},
   "outputs": [],
   "source": [
    "# Mendapatkan kolom target dan feature dari df_lbe\n",
    "X = df_lbe.drop(\"price\", axis=1)\n",
    "y = df_lbe[\"price\"]\n",
    "\n",
    "# split into training dan testing sets\n",
    "X_train, X_test, y_train, y_test = train_test_split(\n",
    "    X, y, test_size=0.3, random_state=234\n",
    ")"
   ]
  },
  {
   "cell_type": "code",
   "execution_count": 27,
   "metadata": {},
   "outputs": [
    {
     "name": "stdout",
     "output_type": "stream",
     "text": [
      "The average RMSE score of the RandomForest model with 30 estimators is 1770.1783591307112.\n",
      "\n",
      "The average RMSE score of the RandomForest model with 50 estimators is 1763.309984696877.\n",
      "\n",
      "The average RMSE score of the RandomForest model with max_depth=7 is 2139.9130325012443.\n",
      "\n",
      "The average RMSE score of the RandomForest model with max_depth=15 is 1763.9865281457915.\n",
      "\n"
     ]
    }
   ],
   "source": [
    "# loop untuk memeriksa optimal n_estimators\n",
    "for n in [30, 50]:\n",
    "    rf_model = RandomForestRegressor(n_estimators=n, n_jobs=-1, random_state=234)\n",
    "    mse = cross_val_score(\n",
    "        rf_model, X_train, y_train, scoring=\"neg_mean_squared_error\", cv=3\n",
    "    )\n",
    "    rmse = np.sqrt(mse * -1)\n",
    "    avg_rmse = np.sum(rmse) / len(rmse)\n",
    "    print(\n",
    "        f\"The average RMSE score of the RandomForest model with {n} estimators is {avg_rmse}.\"\n",
    "    )\n",
    "    print()\n",
    "\n",
    "# loop to menemukan nilai optimal max_depth\n",
    "for n in [7, 15]:\n",
    "    rf_model = RandomForestRegressor(\n",
    "        n_estimators=30, max_depth=n, n_jobs=-1, random_state=234\n",
    "    )\n",
    "    mse = cross_val_score(\n",
    "        rf_model, X_train, y_train, scoring=\"neg_mean_squared_error\", cv=3\n",
    "    )\n",
    "    rmse = np.sqrt(mse * -1)\n",
    "    avg_rmse = np.sum(rmse) / len(rmse)\n",
    "    print(\n",
    "        f\"The average RMSE score of the RandomForest model with max_depth={n} is {avg_rmse}.\"\n",
    "    )\n",
    "    print()"
   ]
  },
  {
   "cell_type": "markdown",
   "metadata": {},
   "source": [
    "Jika `n_estimators` terlalu besar, skor RMSE model akan sedikit meningkat tetapi penggunaan `n_estimators` yang tinggi akan memperlambat komputasi. Demi kecepatan, akan memilih `n_estimators sebesar 50` dan `max_ depth sebesar 20`. Mari kita cari berapa banyak waktu yang diperlukan untuk model optimal dengan `RandomForestRegressor`"
   ]
  },
  {
   "cell_type": "code",
   "execution_count": 28,
   "metadata": {
    "scrolled": true
   },
   "outputs": [
    {
     "name": "stdout",
     "output_type": "stream",
     "text": [
      "CPU times: user 27.9 s, sys: 22.7 ms, total: 27.9 s\n",
      "Wall time: 28 s\n"
     ]
    },
    {
     "data": {
      "text/plain": [
       "RandomForestRegressor(max_depth=15, n_estimators=50, n_jobs=-1,\n",
       "                      random_state=234)"
      ]
     },
     "execution_count": 28,
     "metadata": {},
     "output_type": "execute_result"
    }
   ],
   "source": [
    "%%time\n",
    "# membangun model dengan parameter optimal dan memeriksa berapa banyak waktu yang diperlukan untuk pelatihan\n",
    "best_rf_model = RandomForestRegressor(n_estimators = 50, max_depth=15, n_jobs=-1, random_state=234)\n",
    "best_rf_model.fit(X_train, y_train)"
   ]
  },
  {
   "cell_type": "code",
   "execution_count": 29,
   "metadata": {},
   "outputs": [
    {
     "name": "stdout",
     "output_type": "stream",
     "text": [
      "The RMSE score of the best RandomForestRegression model is 1754.4200140924252.\n",
      "CPU times: user 1.01 s, sys: 7.92 ms, total: 1.02 s\n",
      "Wall time: 1.01 s\n"
     ]
    }
   ],
   "source": [
    "%%time\n",
    "# Sekarang mari kita periksa berapa banyak waktu yang diperlukan untuk prediksi dan menghitung RMSE\n",
    "y_pred = best_rf_model.predict(X_test)\n",
    "\n",
    "print(f'The RMSE score of the best RandomForestRegression model is {(mean_squared_error(y_test, y_pred))**0.5}.')"
   ]
  },
  {
   "cell_type": "markdown",
   "metadata": {},
   "source": [
    "### LightGBM Regressor"
   ]
  },
  {
   "cell_type": "code",
   "execution_count": 30,
   "metadata": {},
   "outputs": [
    {
     "name": "stdout",
     "output_type": "stream",
     "text": [
      "The RMSE score of the LightGBM model with 30 estimators is 1982.904491418236.\n",
      "\n",
      "The RMSE score of the LightGBM model with 50 estimators is 1868.479333522558.\n",
      "\n",
      "The RMSE score of the LightGBM model with max_depth=7 is 1989.3441819444317.\n",
      "\n",
      "The RMSE score of the LightGBM model with max_depth=15 is 1982.904491418236.\n",
      "\n"
     ]
    }
   ],
   "source": [
    "# loop untuk menemukan n_estimators yang optimal\n",
    "for n in [30, 50]:\n",
    "    lg_model = LGBMRegressor(n_estimators=n, random_state=234)\n",
    "    mse = cross_val_score(\n",
    "        lg_model, X_train, y_train, scoring=\"neg_mean_squared_error\", cv=3\n",
    "    )\n",
    "    rmse = np.sqrt(mse * -1)\n",
    "    avg_rmse = np.sum(rmse) / len(rmse)\n",
    "    print(f\"The RMSE score of the LightGBM model with {n} estimators is {avg_rmse}.\")\n",
    "    print()\n",
    "\n",
    "# Loop untuk menemukan max_depth yang optimal\n",
    "for n in [7, 15]:\n",
    "    lg_model = LGBMRegressor(n_estimators=30, max_depth=n, random_state=234)\n",
    "    mse = cross_val_score(\n",
    "        lg_model, X_train, y_train, scoring=\"neg_mean_squared_error\", cv=3\n",
    "    )\n",
    "    rmse = np.sqrt(mse * -1)\n",
    "    avg_rmse = np.sum(rmse) / len(rmse)\n",
    "    print(f\"The RMSE score of the LightGBM model with max_depth={n} is {avg_rmse}.\")\n",
    "    print()"
   ]
  },
  {
   "cell_type": "code",
   "execution_count": 31,
   "metadata": {
    "scrolled": true
   },
   "outputs": [
    {
     "name": "stdout",
     "output_type": "stream",
     "text": [
      "CPU times: user 1.89 s, sys: 15.9 ms, total: 1.9 s\n",
      "Wall time: 1.86 s\n"
     ]
    },
    {
     "data": {
      "text/plain": [
       "LGBMRegressor(max_depth=15, n_estimators=50, random_state=234)"
      ]
     },
     "execution_count": 31,
     "metadata": {},
     "output_type": "execute_result"
    }
   ],
   "source": [
    "%%time\n",
    "\n",
    "# Membangun model dengan parameter optimal dan memeriksa berapa banyak waktu yang diperlukan untuk training\n",
    "best_lg_model = LGBMRegressor(n_estimators=50, max_depth=15, random_state=234)\n",
    "best_lg_model.fit(X_train, y_train)"
   ]
  },
  {
   "cell_type": "code",
   "execution_count": 32,
   "metadata": {},
   "outputs": [
    {
     "name": "stdout",
     "output_type": "stream",
     "text": [
      "The RMSE score of the best LightGBM model is 1888.525685137322.\n",
      "CPU times: user 455 ms, sys: 0 ns, total: 455 ms\n",
      "Wall time: 379 ms\n"
     ]
    }
   ],
   "source": [
    "%%time\n",
    "# Memprediksi target dan memeriksa skor RMSE dan waktu yang diperlukan untuk prediksi\n",
    "y_pred = best_lg_model.predict(X_test)\n",
    "print(f'The RMSE score of the best LightGBM model is {(mean_squared_error(y_test, y_pred))**0.5}.')"
   ]
  },
  {
   "cell_type": "markdown",
   "metadata": {},
   "source": [
    "### XGBoost Regressor"
   ]
  },
  {
   "cell_type": "code",
   "execution_count": 33,
   "metadata": {},
   "outputs": [
    {
     "name": "stdout",
     "output_type": "stream",
     "text": [
      "CPU times: user 28.9 s, sys: 68.2 ms, total: 28.9 s\n",
      "Wall time: 29.3 s\n"
     ]
    },
    {
     "data": {
      "text/plain": [
       "XGBRegressor(base_score=0.5, booster='gbtree', colsample_bylevel=1,\n",
       "             colsample_bynode=1, colsample_bytree=1, enable_categorical=False,\n",
       "             gamma=0, gpu_id=-1, importance_type=None,\n",
       "             interaction_constraints='', learning_rate=0.300000012,\n",
       "             max_delta_step=0, max_depth=6, min_child_weight=1, missing=nan,\n",
       "             monotone_constraints='()', n_estimators=100, n_jobs=4,\n",
       "             num_parallel_tree=1, predictor='auto', random_state=0, reg_alpha=0,\n",
       "             reg_lambda=1, scale_pos_weight=1, subsample=1, tree_method='exact',\n",
       "             validate_parameters=1, verbosity=None)"
      ]
     },
     "execution_count": 33,
     "metadata": {},
     "output_type": "execute_result"
    }
   ],
   "source": [
    "%%time\n",
    "# Menghitung waktu yang dibutuhkan untuk training\n",
    "xg_model = xgb.XGBRegressor()\n",
    "xg_model.fit(X_train,y_train)"
   ]
  },
  {
   "cell_type": "code",
   "execution_count": 34,
   "metadata": {},
   "outputs": [
    {
     "name": "stdout",
     "output_type": "stream",
     "text": [
      "The RMSE score of the XGBoost model with defualt parameters is 1745.2050153705543.\n",
      "CPU times: user 480 ms, sys: 0 ns, total: 480 ms\n",
      "Wall time: 406 ms\n"
     ]
    }
   ],
   "source": [
    "%%time\n",
    "# Melakukan prediksi dan periksa skor RMSE dan waktu yang diperlukan\n",
    "y_pred = xg_model.predict(X_test)\n",
    "\n",
    "print(f'The RMSE score of the XGBoost model with defualt parameters is {(mean_squared_error(y_test, y_pred))**0.5}.')"
   ]
  },
  {
   "cell_type": "markdown",
   "metadata": {},
   "source": [
    "### Catboost Regressor"
   ]
  },
  {
   "cell_type": "code",
   "execution_count": 35,
   "metadata": {},
   "outputs": [
    {
     "name": "stdout",
     "output_type": "stream",
     "text": [
      "The RMSE score of the Catboost model with 30 iterations is 1858.0889667967595.\n",
      "\n",
      "The RMSE score of the Catboost model with 50 iterations is 1826.9967002786213.\n",
      "\n",
      "The RMSE score of the Catboost model with depth=7 is 1842.8976274074018.\n",
      "\n",
      "The RMSE score of the Catboost model with depth=15 is 1830.9026477972693.\n",
      "\n"
     ]
    }
   ],
   "source": [
    "# Mendapatkan kolom target dan feature dari df tanpa encoding\n",
    "X = df.drop(\"price\", axis=1)\n",
    "y = df[\"price\"]\n",
    "\n",
    "# split into training dan testing sets\n",
    "X_train, X_test, y_train, y_test = train_test_split(\n",
    "    X, y, test_size=0.3, random_state=234\n",
    ")\n",
    "\n",
    "# loop untuk memeriksa number yang optimal dari iterations\n",
    "for n in [30, 50]:\n",
    "    cb_model = CatBoostRegressor(\n",
    "        iterations=n,\n",
    "        learning_rate=1,\n",
    "        random_seed=234,\n",
    "        silent=True,\n",
    "        cat_features=categorical_columns,\n",
    "    )\n",
    "    mse = cross_val_score(\n",
    "        cb_model, X_train, y_train, scoring=\"neg_mean_squared_error\", cv=3\n",
    "    )\n",
    "    rmse = np.sqrt(mse * -1)\n",
    "    avg_rmse = np.sum(rmse) / len(rmse)\n",
    "    print(f\"The RMSE score of the Catboost model with {n} iterations is {avg_rmse}.\")\n",
    "    print()\n",
    "\n",
    "# Loop untuk memeriksa optimal number dari depth\n",
    "for n in [7, 15]:\n",
    "    cb_model = CatBoostRegressor(\n",
    "        iterations=30,\n",
    "        learning_rate=1,\n",
    "        depth=n,\n",
    "        random_seed=234,\n",
    "        silent=True,\n",
    "        cat_features=categorical_columns,\n",
    "    )\n",
    "    mse = cross_val_score(\n",
    "        cb_model, X_train, y_train, scoring=\"neg_mean_squared_error\", cv=3\n",
    "    )\n",
    "    rmse = np.sqrt(mse * -1)\n",
    "    avg_rmse = np.sum(rmse) / len(rmse)\n",
    "    print(f\"The RMSE score of the Catboost model with depth={n} is {avg_rmse}.\")\n",
    "    print()"
   ]
  },
  {
   "cell_type": "code",
   "execution_count": 36,
   "metadata": {},
   "outputs": [
    {
     "name": "stdout",
     "output_type": "stream",
     "text": [
      "CPU times: user 48.6 s, sys: 3.61 s, total: 52.2 s\n",
      "Wall time: 52.5 s\n"
     ]
    },
    {
     "data": {
      "text/plain": [
       "<catboost.core.CatBoostRegressor at 0x7fabe3f755b0>"
      ]
     },
     "execution_count": 36,
     "metadata": {},
     "output_type": "execute_result"
    }
   ],
   "source": [
    "%%time\n",
    "\n",
    "# Membangun model dengan parameter optimal dan memeriksa berapa banyak waktu yang diperlukan untuk training\n",
    "best_cb_model = CatBoostRegressor(iterations=50, learning_rate=1, depth=15, random_seed=234, silent=True)\n",
    "best_cb_model.fit(X_train, y_train, cat_features=categorical_columns)"
   ]
  },
  {
   "cell_type": "code",
   "execution_count": 37,
   "metadata": {},
   "outputs": [
    {
     "name": "stdout",
     "output_type": "stream",
     "text": [
      "The RMSE score of the best Catboost model is 1823.2683654995737.\n",
      "CPU times: user 172 ms, sys: 117 µs, total: 172 ms\n",
      "Wall time: 173 ms\n"
     ]
    }
   ],
   "source": [
    "%%time\n",
    "# Memprediksi target dan memeriksa RMSE score dan time\n",
    "y_pred = best_cb_model.predict(X_test)\n",
    "\n",
    "print(f'The RMSE score of the best Catboost model is {(mean_squared_error(y_test, y_pred))**0.5}.')"
   ]
  },
  {
   "cell_type": "markdown",
   "metadata": {},
   "source": [
    "#### Kesimpulan Sementara\n",
    "\n",
    "Beberapa kolom, seperti `NumberOfPictures` yang berisi semua angka nol dan kolom tanggalwaktu lainnya, tidak akan menambah banyak nilai pada model regresi kita. Oleh karena itu, kami telah memilih kolom yang paling penting sebagai berikut: `price`, `vehicletype`, `gearbox`, `power`, `model`, `mileage`, `fueltype`, `brand`, dan `vehicleage`. Data baru untuk model pelatihan dan pengujian memiliki 331474 baris dan 9 kolom (hanya sebagai perbandingan, data awal berisi: **354369 baris dan 16 kolom**. Duplikat, kesalahan, dan data yang tidak perlu dihilangkan.)\n",
    "\n",
    "Algoritme berikut dilatih dan diuji:\n",
    "\n",
    "|Algorithm            |Deal with categoricals|Scaling        |Tuned Hyperparamteres  |\n",
    "|---------------------|----------------------|---------------|-----------------------|\n",
    "|LinearRegression     |One hot encoding      |StandardScaler |None                   |\n",
    "|RandomForestRegressor|Label encoding        |None           |n_estimators, max_depth|\n",
    "|LightGBMRegressor    |Label encoding        |None           |n_estimators, max_depth|\n",
    "|XGBoostRegressor     |Label encoding        |None           |None                   |\n",
    "|CatBoostRegressor    |it has its own        |None           |iterations, depth      |"
   ]
  },
  {
   "cell_type": "markdown",
   "metadata": {},
   "source": [
    "## Analisa Model"
   ]
  },
  {
   "cell_type": "markdown",
   "metadata": {},
   "source": [
    "Disini akan membandingkan skor RMSE dan berapa lama waktu yang dibutuhkan untuk mendapatkan skor optimal dengan model di atas."
   ]
  },
  {
   "cell_type": "code",
   "execution_count": 38,
   "metadata": {},
   "outputs": [
    {
     "data": {
      "image/png": "[encoded data removed]",
      "text/plain": [
       "<Figure size 864x432 with 3 Axes>"
      ]
     },
     "metadata": {
      "needs_background": "light"
     },
     "output_type": "display_data"
    }
   ],
   "source": [
    "# Kinerja model terbaik\n",
    "models = [\"LinearReg\", \"RandForest\", \"LightGBM\", \"XGboost\", \"CatBoost\"]\n",
    "rmse_score = [2766.05, 1754.42, 1888.53, 1990.81, 1814.9]\n",
    "fit_time = [24.1, 23.4, 1.65, 13.9, 88]\n",
    "pred_time = [0.22, 1.07, 0.45, 0.39, 0.313]\n",
    "# Membuat dataframe\n",
    "comparison = pd.DataFrame(\n",
    "    data=zip(models, rmse_score, fit_time, pred_time),\n",
    "    columns=[\"model\", \"rmse_score\", \"fit_time_sec\", \"pred_time_sec\"],\n",
    ")\n",
    "\n",
    "# plot performance metrics\n",
    "fig, ax = plt.subplots(1, 3, figsize=(12, 6))\n",
    "sns.set_style(\"whitegrid\")\n",
    "\n",
    "\n",
    "sns.barplot(\n",
    "    data=comparison.sort_values(\"rmse_score\"),\n",
    "    y=\"model\",\n",
    "    x=\"rmse_score\",\n",
    "    orient=\"h\",\n",
    "    ax=ax[0],\n",
    ")\n",
    "ax[0].set_title(\"RMSE score comparison of various models\")\n",
    "sns.barplot(\n",
    "    data=comparison.sort_values(\"rmse_score\"),\n",
    "    y=\"model\",\n",
    "    x=\"fit_time_sec\",\n",
    "    orient=\"h\",\n",
    "    ax=ax[1],\n",
    ")\n",
    "ax[1].set_title(\"Time required to train the model\")\n",
    "sns.barplot(\n",
    "    data=comparison.sort_values(\"rmse_score\"),\n",
    "    y=\"model\",\n",
    "    x=\"pred_time_sec\",\n",
    "    orient=\"h\",\n",
    "    ax=ax[2],\n",
    ")\n",
    "ax[2].set_title(\"Time required to predict the target\")\n",
    "\n",
    "\n",
    "plt.tight_layout()\n",
    "plt.show()"
   ]
  },
  {
   "cell_type": "markdown",
   "metadata": {},
   "source": [
    "### Kesimpulan Sementara"
   ]
  },
  {
   "cell_type": "markdown",
   "metadata": {},
   "source": [
    "Secara keseluruhan, dari perspektif skor RMSE, semua model memiliki kinerja yang baik dibandingkan dengan `LinearRegression ` sederhana, yang memperkirakan harga mobil dengan ±2766 EUR. Namun, skor RMSE `RandomForest` adalah yang terendah (±1754 EUR), tetapi `LightGBM` dan `CatBoost` juga memiliki kinerja yang sebanding dengan `RandomForest`.\n",
    "\n",
    "Di sisi lain, waktu untuk melatih model dan memprediksi target berbeda secara signifikan. Misalnya, RandomForest yang memiliki skor RMSE tertinggi, `memerlukan 23 detik untuk pelatihan` dan `1,1 detik untuk prediksi`, sedangkan model **LinearRegression sederhana memerlukan 24 detik untuk pelatihan dan hanya 0,22 detik untuk prediksi**.\n",
    "\n",
    "Waktu prediksi lebih penting daripada waktu latihan, dikatenakan model pernah dilatih dan diterapkan. Kemudian pelanggan sering menggunakan model ini untuk memprediksi harga mobilnya. Dan ini harus dilakukan dengan cepat karena untuk mencegah waktu tunggu yang lama. Oleh karena itu, model dengan skor RMSE yang memadai dan waktu prediksi terendah lebih menjanjikan untuk diterapkan.\n",
    "\n",
    "Singkatnya, dapat mengatakan bahwa `CatBoost dengan prediksi akurat yang relatif baik ( ±1814 EUR) dan waktu prediksi hanya 0,31 detik terlihat lebih menjanjikan untuk implementasi tugas khusus ini.`"
   ]
  },
  {
   "cell_type": "markdown",
   "metadata": {},
   "source": [
    "## Rangkuman"
   ]
  },
  {
   "cell_type": "markdown",
   "metadata": {},
   "source": [
    "- Data dengan **354369 baris dan 16 kolom** telah diimpor dan diperiksa, observasi/perubahan berikut dilakukan:\n",
    "     - Kolom `vehicletype`, `gearbox`, `model`, `fueltype`, dan `notrepaired` berisi nilai yang hilang. Semua kolom ini berisi tipe data kategorikal. Oleh karena itu, semua nilai yang hilang diisi sebagai \"tidak diketahui\";\n",
    "     - Total 262 baris diduplikasi dalam data asli. Ditemukan bahwa mereka adalah duplikat yang identik. Semuanya dijatuhkan;\n",
    "     - Kolom baru yang berisi umur kendaraan, `vehicleage`, dibuat menggunakan kolom `datecreated` dan `registrationyear`. Namun, pada langkah ini, diamati bahwa data mengandung kesalahan pada kolom `tahun pendaftaran`, ada tahun yang paling rendah 1000 dan paling tinggi 9999. Semua tahun lebih kecil dari 1900 (tahun ketika mobil menjadi komersial) dan lebih tinggi daripada tanggal pembuatan profil dibatalkan. Jumlah baris yang dihilangkan sekitar 4% dari data.\n",
    "\n",
    "\n",
    "- Selama EDA, terlihat adanya kesalahan pada kolom `power` yang berisi nilai horsepower setinggi 20.000. Semua nilai di atas Q3+IQR*1.5 dihilangkan (hanya 0,12% dari data) .\n",
    "\n",
    "- Teramati bahwa **yang paling banyak terjual**:\n",
    "     - Merk : Volkswagen\n",
    "     - Model: golf\n",
    "     - Vehicles Type : sedan\n",
    "     - Gearbox: manual (lebih dari dua pertiganya)\n",
    "     - Fuel Type : bensin (sekitar dua pertiga dari semuanya)\n",
    "\n",
    "Semua kesalahan yang disebutkan mungkin berasal dari alasan teknis, kesalahan manusia (salah ketik), atau selama perayapan web, penggabungan kumpulan data, dll.\n",
    "\n",
    "- Kami telah memilih kolom paling penting sebagai berikut: `price`, `vehicletype`, `gearbox`, `power`, `model`, `mileage`, `fueltype`, `brand`, dan `vehicleage`. Data baru untuk model pelatihan dan pengujian memiliki 331474 baris dan 9 kolom (hanya sebagai perbandingan, data awal berisi: **354369 baris dan 16 kolom**. Duplikat, kesalahan, dan data yang tidak perlu dihilangkan.)\n",
    "\n",
    "- Algoritme berikut dilatih dan diuji:\n",
    "    |Algorithm            |Deal with categoricals|Scaling        |Tuned Hyperparamteres  |\n",
    "    |---------------------|----------------------|---------------|-----------------------|\n",
    "    |LinearRegression     |One hot encoding      |StandardScaler |None                   |\n",
    "    |RandomForestRegressor|Label encoding        |None           |n_estimators, max_depth|\n",
    "    |LightGBMRegressor    |Label encoding        |None           |n_estimators, max_depth|\n",
    "    |XGBoostRegressor     |Label encoding        |None           |None                   |\n",
    "    |CatBoostRegressor    |it has its own        |None           |iterations, depth      |\n",
    "\n",
    "\n",
    "\n",
    "- Secara keseluruhan, dari perspektif skor RMSE, semua model memiliki performa yang baik dibandingkan dengan **LinearRegression sederhana, yang memperkirakan harga mobil sebesar $\\pm$ 2766 EUR.** Namun, skor RMSE **RandomForest adalah yang terendah ($\\pm$ 1754 EUR)**, tetapi LightGBM dan CatBoost juga memiliki kinerja yang sebanding dengan RandomForest. Di sisi lain, waktu untuk melatih model dan memprediksi target berbeda secara signifikan. Misalnya, RandomForest, yang memiliki skor RMSE tertinggi, memerlukan 23 detik untuk pelatihan dan 1,1 detik untuk prediksi, sedangkan model **LinearRegression sederhana memerlukan 24 detik untuk pelatihan dan hanya 0,22 detik untuk prediksi.**\n",
    "\n",
    "\n",
    "Waktu prediksi lebih penting daripada waktu latihan. Dikarenakan model pernah dilatih dan diterapkan. Kemudian pelanggan sering menggunakan model ini untuk memprediksi harga mobilnya. Dan ini harus dilakukan dengan cepat karena untuk mencegah waktu tunggu yang lama. Oleh karena itu, model dengan skor RMSE yang memadai dan waktu prediksi terendah lebih menjanjikan untuk diterapkan.\n",
    "\n",
    "**Singkatnya, dapat mengatakan bahwa CatBoost dengan prediksi akurat yang relatif baik ($\\pm$ 1814 EUR) dan waktu prediksi hanya 0,31 detik terlihat lebih menjanjikan untuk implementasi tugas khusus ini.**"
   ]
  },
  {
   "cell_type": "markdown",
   "metadata": {},
   "source": [
    "# Daftar Periksa"
   ]
  },
  {
   "cell_type": "markdown",
   "metadata": {},
   "source": [
    "Ketik 'x' untuk menandakannya sebagai selesai. Lalu, tekan tombol Shift+Enter"
   ]
  },
  {
   "cell_type": "markdown",
   "metadata": {},
   "source": [
    "- [x]  Jupyter Notebook bisa dibuka\n",
    "- [x]  Tidak ada kesalahan pada kode\n",
    "- [x]  Sel-sel dengan kode telah disusun berdasarkan urutan eksekusi\n",
    "- [x]  Data telah diunduh dan disiapkan- [ ]  Model sudah dilatih\n",
    "- [x]  Analisis terhadap kecepatan dan kualitas model telah dilakukan"
   ]
  }
 ],
 "metadata": {
  "kernelspec": {
   "display_name": "Python 3 (ipykernel)",
   "language": "python",
   "name": "python3"
  },
  "language_info": {
   "codemirror_mode": {
    "name": "ipython",
    "version": 3
   },
   "file_extension": ".py",
   "mimetype": "text/x-python",
   "name": "python",
   "nbconvert_exporter": "python",
   "pygments_lexer": "ipython3",
   "version": "3.9.19"
  },
  "toc": {
   "base_numbering": 1,
   "nav_menu": {},
   "number_sections": true,
   "sideBar": true,
   "skip_h1_title": true,
   "title_cell": "Table of Contents",
   "title_sidebar": "Contents",
   "toc_cell": false,
   "toc_position": {},
   "toc_section_display": true,
   "toc_window_display": true
  }
 },
 "nbformat": 4,
 "nbformat_minor": 2
}
